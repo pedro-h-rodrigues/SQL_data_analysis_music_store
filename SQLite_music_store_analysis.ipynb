{
 "cells": [
  {
   "cell_type": "markdown",
   "metadata": {},
   "source": [
    "# Análise de dados utilizando SQLite\n",
    "\n",
    "## 1. Introdução\n",
    "\n",
    "* O objetivo desse projeto é analisar uma base de dados relacional de uma loja de música virtual (similar ao i-tunes da apple na época em que era comum a compra de músicas em .mp3).\n",
    "\n",
    "\n",
    "* Nossa base de dados é uma base em **SQLite**, organizada conforme o diagrama abaixo. As chaves primárias de cada tabela estão destacas mais escuro, e suas relações com as chaves estrangeiras estão indicadas pelas linhas. De um modo geral a base respeita as 3 principais regras normais de garantia de integridade dos dados e performace do banco.\n",
    "\n",
    "\n",
    "<img src=\"https://i.imgur.com/2UgQ29p.png\" />\n",
    "\n",
    "\n",
    "* A partir da análise do banco, vamos responder as seguinte perguntas:\n",
    "\n",
    "  \n",
    " > 1. Qual o gênero musical que vendeu mais músicas nos EUA?\n",
    " > 2. Quais funcionários da loja venderam mais? Qual o perfil desses funcionários?\n",
    " > 3. Como foram as vendas por país? Quantos clientes existem em cada país? Qual o valor médio gasto por cliente em cada país? etc...\n",
    " > 4. Os clientes tem comprado mais músicas avulsas ou álbuns inteiros?\n",
    "\n",
    "\n",
    "* Esse projeto foi desenvolvido por mim como parte do curso de **\"Intermediate SQL for data Analysis\" do Dataquest**, um site americano que oferece cursos pagos de ciência de dados. O Dataquest oferece **projetos guiados** ao término de cada módulo, onde os alunos aplicam os conceitos aprendidos no módulo. Nos projetos guiados são utilizados datasets reais e os alunos recebem instruções gerais de como resolver o problema proposto. O site oferece a \"solução\" para cada projeto guiado, que pode ser encontrada no seguinte link https://github.com/dataquestio/solutions/blob/master/Mission191Solutions.ipynb\n",
    "Como estou iniciando em data-science, obviamente tive que recorrer à solução disponibilizada pelo site, no entanto, **escrevi meu próprio código e em várias etapas melhorei o código em relação à solução apresentada**.\n",
    "\n",
    "\n"
   ]
  },
  {
   "cell_type": "markdown",
   "metadata": {},
   "source": [
    "## 2. Conectando à base\n",
    "\n",
    "* Nesse projeto vamos fazer nossas queries direto do jupyter notebook nós conectando ao nosso banco, cujo nome é 'chinook.db'\n",
    "\n",
    "\n",
    "* Para isso vamos utilizar o comando (magic) do jupyter notebook **%load_ext sql**, do ipython, que carrega o módulo SQL e nos permite conectar à base.\n",
    "\n",
    "\n",
    "* Para conectar à nossa bse do sqlite vamos precisar utilizar passar o comando a seguir, com a string de conexão à base apenas uma vez **%sqlite:///chinook.db**\n",
    "\n",
    "\n",
    "* Para escrever nossas queries, basta colocar **%%sql** no começo das células, sem a necessidade de criar "
   ]
  },
  {
   "cell_type": "code",
   "execution_count": 1,
   "metadata": {},
   "outputs": [],
   "source": [
    "%%capture\n",
    "!pip install ipython-sql"
   ]
  },
  {
   "cell_type": "code",
   "execution_count": 2,
   "metadata": {
    "collapsed": false,
    "jupyter": {
     "outputs_hidden": false
    }
   },
   "outputs": [],
   "source": [
    "%load_ext sql\n",
    "%sql sqlite:///chinook.db"
   ]
  },
  {
   "cell_type": "code",
   "execution_count": 3,
   "metadata": {
    "collapsed": false,
    "jupyter": {
     "outputs_hidden": false
    }
   },
   "outputs": [
    {
     "name": "stdout",
     "output_type": "stream",
     "text": [
      " * sqlite:///chinook.db\n",
      "Done.\n"
     ]
    },
    {
     "data": {
      "text/html": [
       "<table>\n",
       "    <tr>\n",
       "        <th>name</th>\n",
       "        <th>type</th>\n",
       "    </tr>\n",
       "    <tr>\n",
       "        <td>album</td>\n",
       "        <td>table</td>\n",
       "    </tr>\n",
       "    <tr>\n",
       "        <td>artist</td>\n",
       "        <td>table</td>\n",
       "    </tr>\n",
       "    <tr>\n",
       "        <td>customer</td>\n",
       "        <td>table</td>\n",
       "    </tr>\n",
       "    <tr>\n",
       "        <td>employee</td>\n",
       "        <td>table</td>\n",
       "    </tr>\n",
       "    <tr>\n",
       "        <td>genre</td>\n",
       "        <td>table</td>\n",
       "    </tr>\n",
       "    <tr>\n",
       "        <td>invoice</td>\n",
       "        <td>table</td>\n",
       "    </tr>\n",
       "    <tr>\n",
       "        <td>invoice_line</td>\n",
       "        <td>table</td>\n",
       "    </tr>\n",
       "    <tr>\n",
       "        <td>media_type</td>\n",
       "        <td>table</td>\n",
       "    </tr>\n",
       "    <tr>\n",
       "        <td>playlist</td>\n",
       "        <td>table</td>\n",
       "    </tr>\n",
       "    <tr>\n",
       "        <td>playlist_track</td>\n",
       "        <td>table</td>\n",
       "    </tr>\n",
       "    <tr>\n",
       "        <td>track</td>\n",
       "        <td>table</td>\n",
       "    </tr>\n",
       "</table>"
      ],
      "text/plain": [
       "[('album', 'table'),\n",
       " ('artist', 'table'),\n",
       " ('customer', 'table'),\n",
       " ('employee', 'table'),\n",
       " ('genre', 'table'),\n",
       " ('invoice', 'table'),\n",
       " ('invoice_line', 'table'),\n",
       " ('media_type', 'table'),\n",
       " ('playlist', 'table'),\n",
       " ('playlist_track', 'table'),\n",
       " ('track', 'table')]"
      ]
     },
     "execution_count": 3,
     "metadata": {},
     "output_type": "execute_result"
    }
   ],
   "source": [
    "%%sql\n",
    "Select name, type\n",
    "from sqlite_master\n",
    "where type in ('table','view');"
   ]
  },
  {
   "cell_type": "markdown",
   "metadata": {},
   "source": [
    "## 3. Respondendo às perguntas sobre a loja de músicas\n",
    "\n",
    "## 3.1. Qual o gênero musical que vendeu mais músicas nos EUA?\n",
    "\n",
    "* Para responder a esta pergunta eu fiz eu fiz 2 subqueries 1 uma query principal\n",
    "\n",
    "\n",
    "* As subqueries aparecem antes da query principal, utilizando a função **with**\n",
    "\n",
    "\n",
    "* **Subquery \"usa_tracks\"** \n",
    "> * Contém 3 informações principais: O país, o gênero, e a contagem de músicas vendidas para determinado gênero. \n",
    "> * Para isso, fiz vários inner joins utilizando as chaves principais de cada tabela. \n",
    "> * Além disso utilizei o comando group by para agrupar por gênero e por país.  \n",
    "> * Filtrei apenas o país USA\n",
    "> * Ordenei por número de músicas vendidas\n",
    "* **Subquery total_sold_usa**\n",
    "> * Como pretendemos mostrar o resultado também por porcentagem, a função dessa subquery é calcular o total de músicas vendidas nos EUA\n",
    "* **Query principal** divide o valor absoluto por gênero (primeira subquerry) pelo total de tracks nos EUA (segunda subquery)"
   ]
  },
  {
   "cell_type": "code",
   "execution_count": 4,
   "metadata": {
    "collapsed": false,
    "jupyter": {
     "outputs_hidden": false
    }
   },
   "outputs": [
    {
     "name": "stdout",
     "output_type": "stream",
     "text": [
      " * sqlite:///chinook.db\n",
      "Done.\n"
     ]
    },
    {
     "data": {
      "text/html": [
       "<table>\n",
       "    <tr>\n",
       "        <th>genre</th>\n",
       "        <th>absolute_sales</th>\n",
       "        <th>percentage</th>\n",
       "    </tr>\n",
       "    <tr>\n",
       "        <td>Rock</td>\n",
       "        <td>561</td>\n",
       "        <td>0.5338</td>\n",
       "    </tr>\n",
       "    <tr>\n",
       "        <td>Alternative &amp; Punk</td>\n",
       "        <td>130</td>\n",
       "        <td>0.1237</td>\n",
       "    </tr>\n",
       "    <tr>\n",
       "        <td>Metal</td>\n",
       "        <td>124</td>\n",
       "        <td>0.118</td>\n",
       "    </tr>\n",
       "    <tr>\n",
       "        <td>R&amp;B/Soul</td>\n",
       "        <td>53</td>\n",
       "        <td>0.0504</td>\n",
       "    </tr>\n",
       "    <tr>\n",
       "        <td>Blues</td>\n",
       "        <td>36</td>\n",
       "        <td>0.0343</td>\n",
       "    </tr>\n",
       "    <tr>\n",
       "        <td>Alternative</td>\n",
       "        <td>35</td>\n",
       "        <td>0.0333</td>\n",
       "    </tr>\n",
       "    <tr>\n",
       "        <td>Latin</td>\n",
       "        <td>22</td>\n",
       "        <td>0.0209</td>\n",
       "    </tr>\n",
       "    <tr>\n",
       "        <td>Pop</td>\n",
       "        <td>22</td>\n",
       "        <td>0.0209</td>\n",
       "    </tr>\n",
       "    <tr>\n",
       "        <td>Hip Hop/Rap</td>\n",
       "        <td>20</td>\n",
       "        <td>0.019</td>\n",
       "    </tr>\n",
       "    <tr>\n",
       "        <td>Jazz</td>\n",
       "        <td>14</td>\n",
       "        <td>0.0133</td>\n",
       "    </tr>\n",
       "    <tr>\n",
       "        <td>Easy Listening</td>\n",
       "        <td>13</td>\n",
       "        <td>0.0124</td>\n",
       "    </tr>\n",
       "    <tr>\n",
       "        <td>Reggae</td>\n",
       "        <td>6</td>\n",
       "        <td>0.0057</td>\n",
       "    </tr>\n",
       "    <tr>\n",
       "        <td>Electronica/Dance</td>\n",
       "        <td>5</td>\n",
       "        <td>0.0048</td>\n",
       "    </tr>\n",
       "    <tr>\n",
       "        <td>Classical</td>\n",
       "        <td>4</td>\n",
       "        <td>0.0038</td>\n",
       "    </tr>\n",
       "    <tr>\n",
       "        <td>Heavy Metal</td>\n",
       "        <td>3</td>\n",
       "        <td>0.0029</td>\n",
       "    </tr>\n",
       "    <tr>\n",
       "        <td>Soundtrack</td>\n",
       "        <td>2</td>\n",
       "        <td>0.0019</td>\n",
       "    </tr>\n",
       "    <tr>\n",
       "        <td>TV Shows</td>\n",
       "        <td>1</td>\n",
       "        <td>0.001</td>\n",
       "    </tr>\n",
       "</table>"
      ],
      "text/plain": [
       "[('Rock', 561, 0.5338),\n",
       " ('Alternative & Punk', 130, 0.1237),\n",
       " ('Metal', 124, 0.118),\n",
       " ('R&B/Soul', 53, 0.0504),\n",
       " ('Blues', 36, 0.0343),\n",
       " ('Alternative', 35, 0.0333),\n",
       " ('Latin', 22, 0.0209),\n",
       " ('Pop', 22, 0.0209),\n",
       " ('Hip Hop/Rap', 20, 0.019),\n",
       " ('Jazz', 14, 0.0133),\n",
       " ('Easy Listening', 13, 0.0124),\n",
       " ('Reggae', 6, 0.0057),\n",
       " ('Electronica/Dance', 5, 0.0048),\n",
       " ('Classical', 4, 0.0038),\n",
       " ('Heavy Metal', 3, 0.0029),\n",
       " ('Soundtrack', 2, 0.0019),\n",
       " ('TV Shows', 1, 0.001)]"
      ]
     },
     "execution_count": 4,
     "metadata": {},
     "output_type": "execute_result"
    }
   ],
   "source": [
    "%%sql\n",
    "\n",
    "with usa_tracks as\n",
    "   (select\n",
    "       c.country,\n",
    "       g.name as genre,\n",
    "       count(il.invoice_line_id) as absolute_sales\n",
    "      from customer c\n",
    "      inner join invoice i on c.customer_id = i.customer_id\n",
    "      inner join invoice_line il on i.invoice_id = il.invoice_id\n",
    "      inner join track t on il.track_id = t.track_id\n",
    "      inner join genre g on t.genre_id = g.genre_id\n",
    "      group by g.name, c.country\n",
    "      having c.country = \"USA\"\n",
    "      order by absolute_sales desc\n",
    "     ),\n",
    "\n",
    "total_sold_usa as\n",
    " (select \n",
    "    country, \n",
    "    sum(absolute_sales) as total \n",
    "  from usa_tracks)\n",
    "\n",
    "select \n",
    "    usa_tracks.genre, \n",
    "    usa_tracks.absolute_sales,\n",
    "    round(cast(usa_tracks.absolute_sales as float) / cast(total_sold_usa.total as float), 4) as percentage\n",
    "    from usa_tracks\n",
    "    inner join total_sold_usa on usa_tracks.country = total_sold_usa.country\n",
    "    "
   ]
  },
  {
   "cell_type": "markdown",
   "metadata": {},
   "source": [
    "Vemos que **rock, punk & alternative e metal** (que também são tipos de rock) correspondem a **mais de 70%** das músicas vendidas."
   ]
  },
  {
   "cell_type": "markdown",
   "metadata": {},
   "source": [
    "## 3.2. Quais funcionários venderam mais? Qual o perfil desses funcionários?\n",
    "\n",
    "* Para responder esta pergunta, precisamos seguir o caminho desde os recibos (tabela invoice), passando pelo cliente (tabela customer) até a tabela com dados dos funcionários (tabela employee). Para isso fizemos inner joins entre essas tabelas.\n",
    "* Concatenamos o primeiro e o segundo nome dos funcionários usando || \" \" ||"
   ]
  },
  {
   "cell_type": "code",
   "execution_count": 5,
   "metadata": {
    "collapsed": false,
    "jupyter": {
     "outputs_hidden": false
    }
   },
   "outputs": [
    {
     "name": "stdout",
     "output_type": "stream",
     "text": [
      " * sqlite:///chinook.db\n",
      "Done.\n"
     ]
    },
    {
     "data": {
      "text/html": [
       "<table>\n",
       "    <tr>\n",
       "        <th>employee_name</th>\n",
       "        <th>title</th>\n",
       "        <th>reports_to</th>\n",
       "        <th>hire_date</th>\n",
       "        <th>total_sales</th>\n",
       "    </tr>\n",
       "    <tr>\n",
       "        <td>Jane Peacock</td>\n",
       "        <td>Sales Support Agent</td>\n",
       "        <td>2</td>\n",
       "        <td>2017-04-01 00:00:00</td>\n",
       "        <td>1731.5100000000039</td>\n",
       "    </tr>\n",
       "    <tr>\n",
       "        <td>Margaret Park</td>\n",
       "        <td>Sales Support Agent</td>\n",
       "        <td>2</td>\n",
       "        <td>2017-05-03 00:00:00</td>\n",
       "        <td>1584.0000000000034</td>\n",
       "    </tr>\n",
       "    <tr>\n",
       "        <td>Steve Johnson</td>\n",
       "        <td>Sales Support Agent</td>\n",
       "        <td>2</td>\n",
       "        <td>2017-10-17 00:00:00</td>\n",
       "        <td>1393.920000000002</td>\n",
       "    </tr>\n",
       "</table>"
      ],
      "text/plain": [
       "[('Jane Peacock', 'Sales Support Agent', 2, '2017-04-01 00:00:00', 1731.5100000000039),\n",
       " ('Margaret Park', 'Sales Support Agent', 2, '2017-05-03 00:00:00', 1584.0000000000034),\n",
       " ('Steve Johnson', 'Sales Support Agent', 2, '2017-10-17 00:00:00', 1393.920000000002)]"
      ]
     },
     "execution_count": 5,
     "metadata": {},
     "output_type": "execute_result"
    }
   ],
   "source": [
    "%%sql\n",
    "\n",
    "select\n",
    "    e.first_name || \" \" || e.last_name as employee_name,\n",
    "    e.title,\n",
    "    e.reports_to,\n",
    "    e.hire_date,\n",
    "    sum(i.total) total_sales\n",
    " from employee e\n",
    " left join customer c on e.employee_id = c.support_rep_id\n",
    " inner join invoice i on c.customer_id = i.customer_id\n",
    " group by e.employee_id\n",
    " order by total_sales desc"
   ]
  },
  {
   "cell_type": "markdown",
   "metadata": {},
   "source": [
    "A funcionária que mais vendeu foi **Jane Peacock**, que é a **funcionária mais antiga** dentre os resultados apresentados.\n",
    "\n",
    "Nossa lista retornou apenas 3 nomes, o que a princípio parece estranho. Fazendo a query abaixo podemos confirmar que os outros funcionários não trabalham com vendas."
   ]
  },
  {
   "cell_type": "code",
   "execution_count": 6,
   "metadata": {
    "collapsed": false,
    "jupyter": {
     "outputs_hidden": false
    }
   },
   "outputs": [
    {
     "name": "stdout",
     "output_type": "stream",
     "text": [
      " * sqlite:///chinook.db\n",
      "Done.\n"
     ]
    },
    {
     "data": {
      "text/html": [
       "<table>\n",
       "    <tr>\n",
       "        <th>first_name</th>\n",
       "        <th>title</th>\n",
       "    </tr>\n",
       "    <tr>\n",
       "        <td>Andrew</td>\n",
       "        <td>General Manager</td>\n",
       "    </tr>\n",
       "    <tr>\n",
       "        <td>Nancy</td>\n",
       "        <td>Sales Manager</td>\n",
       "    </tr>\n",
       "    <tr>\n",
       "        <td>Jane</td>\n",
       "        <td>Sales Support Agent</td>\n",
       "    </tr>\n",
       "    <tr>\n",
       "        <td>Margaret</td>\n",
       "        <td>Sales Support Agent</td>\n",
       "    </tr>\n",
       "    <tr>\n",
       "        <td>Steve</td>\n",
       "        <td>Sales Support Agent</td>\n",
       "    </tr>\n",
       "    <tr>\n",
       "        <td>Michael</td>\n",
       "        <td>IT Manager</td>\n",
       "    </tr>\n",
       "    <tr>\n",
       "        <td>Robert</td>\n",
       "        <td>IT Staff</td>\n",
       "    </tr>\n",
       "    <tr>\n",
       "        <td>Laura</td>\n",
       "        <td>IT Staff</td>\n",
       "    </tr>\n",
       "</table>"
      ],
      "text/plain": [
       "[('Andrew', 'General Manager'),\n",
       " ('Nancy', 'Sales Manager'),\n",
       " ('Jane', 'Sales Support Agent'),\n",
       " ('Margaret', 'Sales Support Agent'),\n",
       " ('Steve', 'Sales Support Agent'),\n",
       " ('Michael', 'IT Manager'),\n",
       " ('Robert', 'IT Staff'),\n",
       " ('Laura', 'IT Staff')]"
      ]
     },
     "execution_count": 6,
     "metadata": {},
     "output_type": "execute_result"
    }
   ],
   "source": [
    "%%sql\n",
    "select first_name, title from employee"
   ]
  },
  {
   "cell_type": "markdown",
   "metadata": {},
   "source": [
    "## 3.3. Analisando as vendas por país e a o valor médio gasto por comprador por país\n",
    "\n",
    "* Eu criei 2 sub querries antes da query principal utilizando **with**\n",
    "* Subquerry 1 **customer_agregate**\n",
    "> * Essa sub querry é um agrupamento do valor comprado por id de comprador,  e da quantidade de ordens por comprador onde eu incluí também o país de cada comprador (para ser usado para agrupar por país na querry principal).\n",
    "* Subquerry 2 **country_or_other** \n",
    "> * A segunda sub querry é uma querry apenas de \"organização\" de dados onde eu criei uma nova coluna para classificar como \"Other\" os países com apenas 1 cliente. \n",
    "> * Para isso eu parti da primeira subquery e utilizei a função **CASE** para criar uma nova coluna \"country modified\" para adicionar uma nova coluna na subquery com \"Other\" nos países com apenas 1 cliente.\n",
    "* Query principal\n",
    "> * A query principal apresenta as estatísticas que queremos por país\n",
    "> * Para isso ela agrupa os valores pela coluna country_modified da segunda sub querry. Foi preciso fazer um inner join entre as tabelas geradas pelas duas subqueries\n",
    "> * Novamente eu usei a função **CASE** somente para **ordernar** os valores, forçando com que other ficasse na última posição: Para isso eu criei uma nova coluna *sort_values* e ordenei os valores por ela."
   ]
  },
  {
   "cell_type": "code",
   "execution_count": 7,
   "metadata": {
    "collapsed": false,
    "jupyter": {
     "outputs_hidden": false
    }
   },
   "outputs": [
    {
     "name": "stdout",
     "output_type": "stream",
     "text": [
      " * sqlite:///chinook.db\n",
      "Done.\n"
     ]
    },
    {
     "data": {
      "text/html": [
       "<table>\n",
       "    <tr>\n",
       "        <th>country</th>\n",
       "        <th>number_of_customers</th>\n",
       "        <th>total_sales</th>\n",
       "        <th>avg_sales_per_customer</th>\n",
       "        <th>avg_order_value</th>\n",
       "        <th>sort_column</th>\n",
       "    </tr>\n",
       "    <tr>\n",
       "        <td>USA</td>\n",
       "        <td>13</td>\n",
       "        <td>1040.49</td>\n",
       "        <td>80.04</td>\n",
       "        <td>7.94</td>\n",
       "        <td>0</td>\n",
       "    </tr>\n",
       "    <tr>\n",
       "        <td>Canada</td>\n",
       "        <td>8</td>\n",
       "        <td>535.59</td>\n",
       "        <td>66.95</td>\n",
       "        <td>7.05</td>\n",
       "        <td>0</td>\n",
       "    </tr>\n",
       "    <tr>\n",
       "        <td>Brazil</td>\n",
       "        <td>5</td>\n",
       "        <td>427.68</td>\n",
       "        <td>85.54</td>\n",
       "        <td>7.01</td>\n",
       "        <td>0</td>\n",
       "    </tr>\n",
       "    <tr>\n",
       "        <td>France</td>\n",
       "        <td>5</td>\n",
       "        <td>389.07</td>\n",
       "        <td>77.81</td>\n",
       "        <td>7.78</td>\n",
       "        <td>0</td>\n",
       "    </tr>\n",
       "    <tr>\n",
       "        <td>Germany</td>\n",
       "        <td>4</td>\n",
       "        <td>334.62</td>\n",
       "        <td>83.66</td>\n",
       "        <td>8.16</td>\n",
       "        <td>0</td>\n",
       "    </tr>\n",
       "    <tr>\n",
       "        <td>Czech Republic</td>\n",
       "        <td>2</td>\n",
       "        <td>273.24</td>\n",
       "        <td>136.62</td>\n",
       "        <td>9.11</td>\n",
       "        <td>0</td>\n",
       "    </tr>\n",
       "    <tr>\n",
       "        <td>United Kingdom</td>\n",
       "        <td>3</td>\n",
       "        <td>245.52</td>\n",
       "        <td>81.84</td>\n",
       "        <td>8.77</td>\n",
       "        <td>0</td>\n",
       "    </tr>\n",
       "    <tr>\n",
       "        <td>Portugal</td>\n",
       "        <td>2</td>\n",
       "        <td>185.13</td>\n",
       "        <td>92.57</td>\n",
       "        <td>6.38</td>\n",
       "        <td>0</td>\n",
       "    </tr>\n",
       "    <tr>\n",
       "        <td>India</td>\n",
       "        <td>2</td>\n",
       "        <td>183.15</td>\n",
       "        <td>91.58</td>\n",
       "        <td>8.72</td>\n",
       "        <td>0</td>\n",
       "    </tr>\n",
       "    <tr>\n",
       "        <td>Other</td>\n",
       "        <td>15</td>\n",
       "        <td>1094.94</td>\n",
       "        <td>73.0</td>\n",
       "        <td>7.45</td>\n",
       "        <td>1</td>\n",
       "    </tr>\n",
       "</table>"
      ],
      "text/plain": [
       "[('USA', 13, 1040.49, 80.04, 7.94, 0),\n",
       " ('Canada', 8, 535.59, 66.95, 7.05, 0),\n",
       " ('Brazil', 5, 427.68, 85.54, 7.01, 0),\n",
       " ('France', 5, 389.07, 77.81, 7.78, 0),\n",
       " ('Germany', 4, 334.62, 83.66, 8.16, 0),\n",
       " ('Czech Republic', 2, 273.24, 136.62, 9.11, 0),\n",
       " ('United Kingdom', 3, 245.52, 81.84, 8.77, 0),\n",
       " ('Portugal', 2, 185.13, 92.57, 6.38, 0),\n",
       " ('India', 2, 183.15, 91.58, 8.72, 0),\n",
       " ('Other', 15, 1094.94, 73.0, 7.45, 1)]"
      ]
     },
     "execution_count": 7,
     "metadata": {},
     "output_type": "execute_result"
    }
   ],
   "source": [
    "%%sql\n",
    "with customer_agregate as \n",
    "\n",
    "(select \n",
    "    i.customer_id,\n",
    "    c.country as country_name,\n",
    "    round(sum(i.total),2) sales_by_customer,\n",
    "    count(i.customer_id) orders_by_customer\n",
    "    from customer c \n",
    "    inner join invoice i on c.customer_id = i.customer_id\n",
    "    group by i.customer_id\n",
    "    order by i.customer_id),\n",
    "\n",
    "country_or_other as\n",
    " (select \n",
    "      ca.country_name as country_original,\n",
    "      count(ca.customer_id) as users_by_country,\n",
    "      case\n",
    "        when count(ca.customer_id) = 1 then \"Other\" \n",
    "        else ca.country_name\n",
    "        end as country_modified\n",
    "      from customer_agregate ca\n",
    "      group by ca.country_name)\n",
    "       \n",
    "\n",
    "select\n",
    "    coo.country_modified as country,\n",
    "    count(ca.customer_id) as number_of_customers,\n",
    "    round(sum(ca.sales_by_customer),2) as total_sales,\n",
    "    round(cast(sum(ca.sales_by_customer) as float)/cast(count(ca.customer_id) as float),2) as avg_sales_per_customer,\n",
    "    round(cast(sum(ca.sales_by_customer) as float)/cast(sum(ca.orders_by_customer) as float),2) as avg_order_value,\n",
    "    case\n",
    "      when coo.country_modified = \"Other\" then 1\n",
    "      else 0\n",
    "      end as sort_column\n",
    "    from customer_agregate ca\n",
    "    inner join country_or_other coo on ca.country_name = coo.country_original\n",
    "    group by coo.country_modified\n",
    "    order by sort_column asc, 3 desc  "
   ]
  },
  {
   "cell_type": "markdown",
   "metadata": {},
   "source": [
    "* Vemos que os EUA são o primeiro país em valor comprado total, com praticamente do dobro do segundo colocado, que é o Canada.\n",
    "* De um modo geral a medida que a quantidade de clientes por país aumenta, aumenta também o valor vendido total, já que o 'ticket médio' gasto em cada país é mais ou menos o mesmo, em torno de 80 dólares.\n",
    "* A quantidade de usuários por país é bem pequena."
   ]
  },
  {
   "cell_type": "markdown",
   "metadata": {},
   "source": [
    "## 3.4. As pessoas estão comprando mais músicas avulsas ou os CDs inteiros?\n",
    "\n",
    "* Sub Query 1 **tracks_per_album** \n",
    "> * Conta quantas faixas existem em cada álbum\n",
    "* Sub Query 2 **track_per_invoice_per_album**\n",
    "> * Para cada recibo, lista quais álbuns foram comprados, e quantas faixas desse álbum foram compradas\n",
    "> * Para isso eu fiz um inner join entre as tabelas invoice line e track\n",
    "> * Depois disso agrupei tanto por álbum quanto por recibo\n",
    "* Sub Query 3 **albuns_per_invoice**\n",
    "> * Com as duas queries que fizemos acima já temos quantas faixas existem por álbum (sub query 1) e quantas faixas de cada álbum foram compradas por recebo (sub query 2), agora vamos cruzar as duas informações\n",
    "> * Para isso fiz um inner join entre as duas primeiras sub queries, utilizando como chave o número do álbum\n",
    "> * Em seguida, usando a função CASE, inseri o valor 1 em uma nova coluna, sempre que a quantidade de faixas compradas para determinado álbum era igual a quantidade total de músicas no álbum (ainda temos várias linhas por invoice)\n",
    "* Sub Query 4 **full_albuns_per_invoice**\n",
    "> * Essa sub query é um agrupamento da sub query 3\n",
    "> * Retorna apenas uma linha por invoice, e a informação de quantos álbuns existem no invoice, quantos álbuns completos existem naquele invoice\n",
    "> * Quando um invoice é composto exclusivamente por cálbuns completos, retorna 1 na coluna 'album purchase'\n",
    "* Query final\n",
    "> * A query final é um agrupamento da sub query 4\n",
    "> * Soma o total de invoices, e o total de invoices compostos exclusivamente por álbuns\n",
    "> * Calcula a relação entre os 2"
   ]
  },
  {
   "cell_type": "code",
   "execution_count": 8,
   "metadata": {
    "collapsed": false,
    "jupyter": {
     "outputs_hidden": false
    }
   },
   "outputs": [
    {
     "name": "stdout",
     "output_type": "stream",
     "text": [
      " * sqlite:///chinook.db\n",
      "Done.\n"
     ]
    },
    {
     "data": {
      "text/html": [
       "<table>\n",
       "    <tr>\n",
       "        <th>total_purchases</th>\n",
       "        <th>album_purchases</th>\n",
       "        <th>percentage_album_purchases</th>\n",
       "        <th>percentage_non_album_purchases</th>\n",
       "    </tr>\n",
       "    <tr>\n",
       "        <td>614</td>\n",
       "        <td>114</td>\n",
       "        <td>0.1857</td>\n",
       "        <td>0.8143</td>\n",
       "    </tr>\n",
       "</table>"
      ],
      "text/plain": [
       "[(614, 114, 0.1857, 0.8143)]"
      ]
     },
     "execution_count": 8,
     "metadata": {},
     "output_type": "execute_result"
    }
   ],
   "source": [
    "%%sql\n",
    "with track_per_album as\n",
    "\n",
    "(\n",
    "select\n",
    "    track.album_id,\n",
    "    count(track.track_id) number_of_tracks_album\n",
    "    from track\n",
    "    group by 1\n",
    "),\n",
    "\n",
    "track_per_invoice_per_album as \n",
    "\n",
    "(\n",
    "  select\n",
    "  il.invoice_id,\n",
    "  t.album_id,  \n",
    "  count(t.track_id) tracks_bought\n",
    "from invoice_line il\n",
    "inner join track t on il.track_id = t.track_id\n",
    "group by il.invoice_id,t.album_id),\n",
    "\n",
    "albuns_per_invoice as\n",
    "\n",
    "(select \n",
    "     tia.*,\n",
    "     ta.number_of_tracks_album,\n",
    "     case \n",
    "       when tia.tracks_bought = ta.number_of_tracks_album then 1\n",
    "        else 0\n",
    "       end as full_album_check       \n",
    "    from track_per_invoice_per_album tia\n",
    "    inner join track_per_album ta on tia.album_id = ta.album_id),\n",
    "\n",
    "full_albuns_per_invoice as\n",
    "\n",
    "(select\n",
    "  invoice_id as invoice,\n",
    "  count(album_id) as albuns_per_invoice,\n",
    "  sum(full_album_check) as full_albuns_per_invoice,\n",
    "  case \n",
    "    when count(album_id) = sum(full_album_check) then 1\n",
    "      else 0\n",
    "     end as album_purchase\n",
    "  from albuns_per_invoice\n",
    "  group by invoice_id)\n",
    "\n",
    "select\n",
    "   count(invoice) total_purchases,\n",
    "   sum(album_purchase) album_purchases,\n",
    "   Round(cast(sum(album_purchase) as float)/cast(count(invoice) as float),4) percentage_album_purchases,\n",
    "   1 - Round(cast(sum(album_purchase) as float)/cast(count(invoice) as float),4) percentage_non_album_purchases\n",
    "   from full_albuns_per_invoice"
   ]
  },
  {
   "cell_type": "markdown",
   "metadata": {},
   "source": [
    "* Chegamos à conclusão de que as compras de músicas avulsas são extremamente comuns: 81,4% das compras contem pelo menos 1 música avulsa e apenas 18,6% são compras apenas de álbuns inteiros. "
   ]
  }
 ],
 "metadata": {
  "kernelspec": {
   "display_name": "Python 3",
   "language": "python",
   "name": "python3"
  },
  "language_info": {
   "codemirror_mode": {
    "name": "ipython",
    "version": 3
   },
   "file_extension": ".py",
   "mimetype": "text/x-python",
   "name": "python",
   "nbconvert_exporter": "python",
   "pygments_lexer": "ipython3",
   "version": "3.8.3"
  }
 },
 "nbformat": 4,
 "nbformat_minor": 4
}
